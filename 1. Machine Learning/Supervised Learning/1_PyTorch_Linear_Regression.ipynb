{
  "nbformat": 4,
  "nbformat_minor": 0,
  "metadata": {
    "colab": {
      "provenance": []
    },
    "kernelspec": {
      "name": "python3",
      "display_name": "Python 3"
    },
    "language_info": {
      "name": "python"
    }
  },
  "cells": [
    {
      "cell_type": "code",
      "execution_count": 1,
      "metadata": {
        "id": "knPW6krO0RKT"
      },
      "outputs": [],
      "source": [
        "import torch\n",
        "import torch.nn as nn\n",
        "import numpy as np\n",
        "import matplotlib.pyplot as plt"
      ]
    },
    {
      "cell_type": "code",
      "source": [
        "# Generating 20 data points\n",
        "\n",
        "N = 20"
      ],
      "metadata": {
        "id": "B94OKNYS0wWn"
      },
      "execution_count": 2,
      "outputs": []
    },
    {
      "cell_type": "code",
      "source": [
        "# random data on the x-axis in (-5, +5)\n",
        "\n",
        "X = np.random.random(N) * 10 - 5"
      ],
      "metadata": {
        "id": "MxY1lNtw1QOv"
      },
      "execution_count": 3,
      "outputs": []
    },
    {
      "cell_type": "code",
      "source": [
        "X"
      ],
      "metadata": {
        "colab": {
          "base_uri": "https://localhost:8080/"
        },
        "id": "lhb8SKjp1QQ-",
        "outputId": "48ec044f-0197-4a0a-a71b-43701146911a"
      },
      "execution_count": 4,
      "outputs": [
        {
          "output_type": "execute_result",
          "data": {
            "text/plain": [
              "array([-0.34633715,  3.79218327, -0.88868364, -0.9749702 ,  4.2970834 ,\n",
              "       -1.62750216, -0.24543739, -3.60752405, -3.35448124, -0.21883644,\n",
              "       -0.69496691, -1.87354707,  0.897844  ,  3.01374495, -2.808849  ,\n",
              "       -3.95228701,  1.20251735, -3.53011712, -4.63725093,  0.17261945])"
            ]
          },
          "metadata": {},
          "execution_count": 4
        }
      ]
    },
    {
      "cell_type": "code",
      "source": [
        "# a line plus some noise\n",
        "\n",
        "Y = 0.5 * X - 1 + np.random.randn(N)"
      ],
      "metadata": {
        "id": "h7NbPCIH1QUk"
      },
      "execution_count": 5,
      "outputs": []
    },
    {
      "cell_type": "code",
      "source": [
        "Y"
      ],
      "metadata": {
        "colab": {
          "base_uri": "https://localhost:8080/"
        },
        "id": "cglklY_J1QWe",
        "outputId": "1e713272-8ba8-49a5-8d3a-a493064ead7e"
      },
      "execution_count": 6,
      "outputs": [
        {
          "output_type": "execute_result",
          "data": {
            "text/plain": [
              "array([-1.81876919,  1.75930535, -0.38682734, -2.18276485,  1.49204504,\n",
              "       -2.09992635, -2.48211936, -2.73347692, -1.29034652, -1.80285323,\n",
              "       -1.04831324, -3.40778902, -1.44016126, -0.11888808, -4.53699388,\n",
              "       -3.73424161,  0.6971471 , -0.5164739 , -3.921597  , -2.11812354])"
            ]
          },
          "metadata": {},
          "execution_count": 6
        }
      ]
    },
    {
      "cell_type": "code",
      "source": [
        "# Plot the data\n",
        "\n",
        "plt.scatter(X, Y)\n",
        "plt.show()"
      ],
      "metadata": {
        "colab": {
          "base_uri": "https://localhost:8080/",
          "height": 431
        },
        "id": "4Id0UcC21ikZ",
        "outputId": "35e870fc-57bd-4a2a-a26a-174ceb881f3c"
      },
      "execution_count": 7,
      "outputs": [
        {
          "output_type": "display_data",
          "data": {
            "text/plain": [
              "<Figure size 640x480 with 1 Axes>"
            ],
            "image/png": "[encoded data removed]"
          },
          "metadata": {}
        }
      ]
    },
    {
      "cell_type": "code",
      "source": [
        "# Create the linear regression model\n",
        "\n",
        "model = nn.Linear(1, 1)"
      ],
      "metadata": {
        "id": "TZmsBmqK3Dol"
      },
      "execution_count": 8,
      "outputs": []
    },
    {
      "cell_type": "code",
      "source": [
        "# Loss and optimizer\n",
        "\n",
        "criterion = nn.MSELoss()\n",
        "optimizer = torch.optim.SGD(model.parameters(), lr=0.1)"
      ],
      "metadata": {
        "id": "4hs94YFX3Die"
      },
      "execution_count": 9,
      "outputs": []
    },
    {
      "cell_type": "code",
      "source": [
        "# In ML we want our data to be shape:\n",
        "# (num_samples x num_dimensions)\n",
        "\n",
        "X = X.reshape(N, 1)\n",
        "Y = Y.reshape(N, 1)"
      ],
      "metadata": {
        "id": "pNJ4Y_UJ3DeF"
      },
      "execution_count": 10,
      "outputs": []
    },
    {
      "cell_type": "code",
      "source": [
        "# PyTorch uses float32 by default\n",
        "# Numpy creates float64 by default\n",
        "\n",
        "input = torch.from_numpy(X.astype(np.float32))\n",
        "targets = torch.from_numpy(Y.astype(np.float32))"
      ],
      "metadata": {
        "id": "BNSxCQJ61tmM"
      },
      "execution_count": 11,
      "outputs": []
    },
    {
      "cell_type": "code",
      "source": [
        "type(input)"
      ],
      "metadata": {
        "colab": {
          "base_uri": "https://localhost:8080/"
        },
        "id": "VUHHWz-U3IIK",
        "outputId": "5a10af68-f26e-4d3b-ff5e-4743a442628e"
      },
      "execution_count": 12,
      "outputs": [
        {
          "output_type": "execute_result",
          "data": {
            "text/plain": [
              "torch.Tensor"
            ]
          },
          "metadata": {},
          "execution_count": 12
        }
      ]
    },
    {
      "cell_type": "code",
      "source": [
        "# Training the model\n",
        "\n",
        "n_epochs = 50\n",
        "losses = []\n",
        "for i in range(n_epochs):\n",
        "  # zero the parameter gradients\n",
        "  optimizer.zero_grad()\n",
        "\n",
        "  # Forward pass\n",
        "  output = model(input)\n",
        "  loss = criterion(output, targets)\n",
        "\n",
        "  # keep the loss so we can plot it later\n",
        "  losses.append(loss.item())\n",
        "\n",
        "  # Backward and optimize\n",
        "  loss.backward()\n",
        "  optimizer.step()\n",
        "\n",
        "  print(f\"Epoch {i+1} / {n_epochs}, Loss: {loss.item():.4f}\")"
      ],
      "metadata": {
        "colab": {
          "base_uri": "https://localhost:8080/"
        },
        "id": "7_EC_r6o3NOL",
        "outputId": "b963078f-c9b4-4b48-8698-1176106b4bc8"
      },
      "execution_count": 13,
      "outputs": [
        {
          "output_type": "stream",
          "name": "stdout",
          "text": [
            "Epoch 1 / 50, Loss: 3.7892\n",
            "Epoch 2 / 50, Loss: 2.9258\n",
            "Epoch 3 / 50, Loss: 2.3449\n",
            "Epoch 4 / 50, Loss: 1.9541\n",
            "Epoch 5 / 50, Loss: 1.6910\n",
            "Epoch 6 / 50, Loss: 1.5141\n",
            "Epoch 7 / 50, Loss: 1.3950\n",
            "Epoch 8 / 50, Loss: 1.3148\n",
            "Epoch 9 / 50, Loss: 1.2609\n",
            "Epoch 10 / 50, Loss: 1.2246\n",
            "Epoch 11 / 50, Loss: 1.2002\n",
            "Epoch 12 / 50, Loss: 1.1838\n",
            "Epoch 13 / 50, Loss: 1.1727\n",
            "Epoch 14 / 50, Loss: 1.1653\n",
            "Epoch 15 / 50, Loss: 1.1603\n",
            "Epoch 16 / 50, Loss: 1.1569\n",
            "Epoch 17 / 50, Loss: 1.1547\n",
            "Epoch 18 / 50, Loss: 1.1531\n",
            "Epoch 19 / 50, Loss: 1.1521\n",
            "Epoch 20 / 50, Loss: 1.1514\n",
            "Epoch 21 / 50, Loss: 1.1509\n",
            "Epoch 22 / 50, Loss: 1.1506\n",
            "Epoch 23 / 50, Loss: 1.1504\n",
            "Epoch 24 / 50, Loss: 1.1503\n",
            "Epoch 25 / 50, Loss: 1.1502\n",
            "Epoch 26 / 50, Loss: 1.1501\n",
            "Epoch 27 / 50, Loss: 1.1501\n",
            "Epoch 28 / 50, Loss: 1.1500\n",
            "Epoch 29 / 50, Loss: 1.1500\n",
            "Epoch 30 / 50, Loss: 1.1500\n",
            "Epoch 31 / 50, Loss: 1.1500\n",
            "Epoch 32 / 50, Loss: 1.1500\n",
            "Epoch 33 / 50, Loss: 1.1500\n",
            "Epoch 34 / 50, Loss: 1.1500\n",
            "Epoch 35 / 50, Loss: 1.1500\n",
            "Epoch 36 / 50, Loss: 1.1500\n",
            "Epoch 37 / 50, Loss: 1.1500\n",
            "Epoch 38 / 50, Loss: 1.1500\n",
            "Epoch 39 / 50, Loss: 1.1500\n",
            "Epoch 40 / 50, Loss: 1.1500\n",
            "Epoch 41 / 50, Loss: 1.1500\n",
            "Epoch 42 / 50, Loss: 1.1500\n",
            "Epoch 43 / 50, Loss: 1.1500\n",
            "Epoch 44 / 50, Loss: 1.1500\n",
            "Epoch 45 / 50, Loss: 1.1500\n",
            "Epoch 46 / 50, Loss: 1.1500\n",
            "Epoch 47 / 50, Loss: 1.1500\n",
            "Epoch 48 / 50, Loss: 1.1500\n",
            "Epoch 49 / 50, Loss: 1.1500\n",
            "Epoch 50 / 50, Loss: 1.1500\n"
          ]
        }
      ]
    },
    {
      "cell_type": "code",
      "source": [
        "# Plotting the Loss per iteration\n",
        "\n",
        "plt.plot(losses)\n",
        "plt.show()"
      ],
      "metadata": {
        "colab": {
          "base_uri": "https://localhost:8080/",
          "height": 430
        },
        "id": "nDrlx5fb4aio",
        "outputId": "a7fdbe94-8abf-420d-84cc-b92f5d886c11"
      },
      "execution_count": 14,
      "outputs": [
        {
          "output_type": "display_data",
          "data": {
            "text/plain": [
              "<Figure size 640x480 with 1 Axes>"
            ],
            "image/png": "[encoded data removed]"
          },
          "metadata": {}
        }
      ]
    },
    {
      "cell_type": "code",
      "source": [
        "# Ploting the Graph\n",
        "\n",
        "predicted = model(input).detach().numpy()\n",
        "plt.scatter(X, Y, label = \"Original\")\n",
        "plt.plot(X, predicted, label = \"Fitted Line\")\n",
        "plt.legend()\n",
        "plt.show()"
      ],
      "metadata": {
        "colab": {
          "base_uri": "https://localhost:8080/",
          "height": 431
        },
        "id": "NfyFxEzd46vu",
        "outputId": "80a69e0f-3be5-46c1-db35-445b45431261"
      },
      "execution_count": 16,
      "outputs": [
        {
          "output_type": "display_data",
          "data": {
            "text/plain": [
              "<Figure size 640x480 with 1 Axes>"
            ],
            "image/png": "[encoded data removed]"
          },
          "metadata": {}
        }
      ]
    },
    {
      "cell_type": "code",
      "source": [
        "# Another way\n",
        "\n",
        "with torch.no_grad():\n",
        "  out = model(input).numpy()\n",
        "out"
      ],
      "metadata": {
        "colab": {
          "base_uri": "https://localhost:8080/"
        },
        "id": "m8h9Uo6c5pVt",
        "outputId": "e5616448-55ed-4886-d85b-57d3e88364e9"
      },
      "execution_count": 17,
      "outputs": [
        {
          "output_type": "execute_result",
          "data": {
            "text/plain": [
              "array([[-1.3644148 ],\n",
              "       [ 0.78916025],\n",
              "       [-1.6466374 ],\n",
              "       [-1.6915387 ],\n",
              "       [ 1.0518968 ],\n",
              "       [-2.0310988 ],\n",
              "       [-1.3119093 ],\n",
              "       [-3.0614493 ],\n",
              "       [-2.9297724 ],\n",
              "       [-1.2980669 ],\n",
              "       [-1.5458324 ],\n",
              "       [-2.159134  ],\n",
              "       [-0.7169763 ],\n",
              "       [ 0.38408184],\n",
              "       [-2.6458402 ],\n",
              "       [-3.2408545 ],\n",
              "       [-0.5584324 ],\n",
              "       [-3.0211687 ],\n",
              "       [-3.5972915 ],\n",
              "       [-1.0943637 ]], dtype=float32)"
            ]
          },
          "metadata": {},
          "execution_count": 17
        }
      ]
    },
    {
      "cell_type": "code",
      "source": [
        "# Important!\n",
        "# In order to test the efficacy of the model, synthetic data is usefull\n",
        "# Why ?\n",
        "# Because ***we know the answer***\n",
        "# True values of (w, b) are (0.5, -1)\n",
        "\n",
        "w = model.weight.data.numpy()\n",
        "b = model.bias.data.numpy()\n",
        "print(w, b)"
      ],
      "metadata": {
        "colab": {
          "base_uri": "https://localhost:8080/"
        },
        "id": "iffBjltx6LXk",
        "outputId": "ae71104c-edf4-4322-ce95-72f36d1c2060"
      },
      "execution_count": 19,
      "outputs": [
        {
          "output_type": "stream",
          "name": "stdout",
          "text": [
            "[[0.5203732]] [-1.1841903]\n"
          ]
        }
      ]
    },
    {
      "cell_type": "code",
      "source": [],
      "metadata": {
        "id": "YpyUWkNo61pV"
      },
      "execution_count": null,
      "outputs": []
    }
  ]
}